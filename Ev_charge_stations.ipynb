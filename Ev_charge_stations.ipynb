{
  "nbformat": 4,
  "nbformat_minor": 0,
  "metadata": {
    "colab": {
      "provenance": [],
      "authorship_tag": "ABX9TyMpEcBJ/kZJpMR+nnElAPrX",
      "include_colab_link": true
    },
    "kernelspec": {
      "name": "python3",
      "display_name": "Python 3"
    },
    "language_info": {
      "name": "python"
    }
  },
  "cells": [
    {
      "cell_type": "markdown",
      "metadata": {
        "id": "view-in-github",
        "colab_type": "text"
      },
      "source": [
        "<a href=\"https://colab.research.google.com/github/nskalyan-ops/iet_ev/blob/main/Ev_charge_stations.ipynb\" target=\"_parent\"><img src=\"https://colab.research.google.com/assets/colab-badge.svg\" alt=\"Open In Colab\"/></a>"
      ]
    },
    {
      "cell_type": "markdown",
      "source": [
        "imports"
      ],
      "metadata": {
        "id": "vz-SqLN_ocaw"
      }
    },
    {
      "cell_type": "code",
      "source": [
        "!pip install torch torchvision torchaudio torch-geometric networkx\n"
      ],
      "metadata": {
        "id": "1cG-j3Jood8w"
      },
      "execution_count": null,
      "outputs": []
    },
    {
      "cell_type": "code",
      "source": [
        "import pandas as pd\n",
        "\n",
        "# Load datasets\n",
        "df_users = pd.read_csv(\"ev_users_training_data.csv\")\n",
        "df_stations = pd.read_csv(\"ev_stations.csv\")\n",
        "\n",
        "# Print sample data\n",
        "df_users.head(), df_stations.head()\n"
      ],
      "metadata": {
        "id": "qDP8wSHSomX1"
      },
      "execution_count": null,
      "outputs": []
    },
    {
      "cell_type": "code",
      "source": [
        "import torch\n",
        "from torch_geometric.data import Data\n",
        "from torch_geometric.utils import from_networkx\n",
        "import networkx as nx\n",
        "\n",
        "# Convert user & station locations to tensor format\n",
        "user_tensor = torch.tensor(df_users[[\"latitude\", \"longitude\"]].values, dtype=torch.float)\n",
        "station_tensor = torch.tensor(df_stations[[\"latitude\", \"longitude\"]].values, dtype=torch.float)\n",
        "\n",
        "# Build graph with NetworkX\n",
        "G = nx.Graph()\n",
        "\n",
        "# Add users & stations as nodes\n",
        "for i in range(len(df_users)):\n",
        "    G.add_node(f\"user_{i}\", x=user_tensor[i])\n",
        "\n",
        "for i in range(len(df_stations)):\n",
        "    G.add_node(f\"station_{i}\", x=station_tensor[i])\n",
        "\n",
        "# Add edges (user → recommended station)\n",
        "for i, row in df_users.iterrows():\n",
        "    recommended_idx = df_stations.index[df_stations[\"station_id\"] == row[\"recommended_station_id\"]].tolist()[0]\n",
        "    G.add_edge(f\"user_{i}\", f\"station_{recommended_idx}\")\n",
        "\n",
        "# Convert to PyTorch Geometric graph\n",
        "graph_data = from_networkx(G)\n",
        "\n",
        "# Save graph data\n",
        "torch.save(graph_data, \"ev_graph_data.pt\")\n",
        "\n",
        "graph_data\n"
      ],
      "metadata": {
        "id": "UOmGL7rLpIsY"
      },
      "execution_count": null,
      "outputs": []
    },
    {
      "cell_type": "code",
      "source": [
        "import torch.nn as nn\n",
        "import torch_geometric.nn as pyg_nn\n",
        "\n",
        "class EVRecommendationGNN(nn.Module):\n",
        "    def __init__(self, input_dim, hidden_dim, output_dim):\n",
        "        super(EVRecommendationGNN, self).__init__()\n",
        "        self.conv1 = pyg_nn.GCNConv(input_dim, hidden_dim)\n",
        "        self.conv2 = pyg_nn.GCNConv(hidden_dim, output_dim)\n",
        "        self.relu = nn.ReLU()\n",
        "\n",
        "    def forward(self, data):\n",
        "        x, edge_index = data.x, data.edge_index\n",
        "        x = self.relu(self.conv1(x, edge_index))\n",
        "        x = self.conv2(x, edge_index)\n",
        "        return x\n",
        "\n",
        "# Initialize model\n",
        "model = EVRecommendationGNN(input_dim=2, hidden_dim=16, output_dim=len(df_stations))\n"
      ],
      "metadata": {
        "id": "zKOdEf_epLrV"
      },
      "execution_count": null,
      "outputs": []
    },
    {
      "cell_type": "code",
      "source": [
        "import torch.optim as optim\n",
        "\n",
        "device = torch.device(\"cpu\")\n",
        "graph_data = graph_data.to(device)\n",
        "model = model.to(device)\n",
        "\n",
        "# Loss and optimizer\n",
        "criterion = nn.CrossEntropyLoss()\n",
        "optimizer = optim.Adam(model.parameters(), lr=0.01)\n",
        "\n",
        "# Training loop\n",
        "num_epochs = 50\n",
        "for epoch in range(num_epochs):\n",
        "    model.train()\n",
        "    optimizer.zero_grad()\n",
        "\n",
        "    # Forward pass\n",
        "    output = model(graph_data)\n",
        "\n",
        "    # Loss calculation (dummy labels for now, replace with real labels)\n",
        "    num_classes = len(df_stations)\n",
        "    target = torch.randint(0, num_classes, (len(df_users),), dtype=torch.long).to(device)\n",
        "\n",
        "    loss = criterion(output[:len(df_users)], target)\n",
        "\n",
        "    # Backward pass\n",
        "    loss.backward()\n",
        "    optimizer.step()\n",
        "\n",
        "    print(f\"Epoch {epoch+1}/{num_epochs}, Loss: {loss.item()}\")\n"
      ],
      "metadata": {
        "id": "en_VKINhpZQt"
      },
      "execution_count": null,
      "outputs": []
    },
    {
      "cell_type": "code",
      "source": [
        "!pip install gym torch stable-baselines3\n"
      ],
      "metadata": {
        "id": "xNAqbX1MpcOl"
      },
      "execution_count": null,
      "outputs": []
    },
    {
      "cell_type": "code",
      "source": [
        "import gym\n",
        "import numpy as np\n",
        "import torch\n",
        "\n",
        "class EVChargingEnv(gym.Env):\n",
        "    def __init__(self, df_users, df_stations):\n",
        "        super(EVChargingEnv, self).__init__()\n",
        "\n",
        "        # State: [user_lat, user_lon, battery_level]\n",
        "        self.observation_space = gym.spaces.Box(low=0, high=1, shape=(3,), dtype=np.float32)\n",
        "\n",
        "        # Actions: Recommend a charging station (0 to num_stations-1)\n",
        "        self.action_space = gym.spaces.Discrete(len(df_stations))\n",
        "\n",
        "        self.df_users = df_users\n",
        "        self.df_stations = df_stations\n",
        "        self.current_user_idx = 0  # Track which user is being served\n",
        "\n",
        "    def reset(self):\n",
        "        \"\"\"Reset environment for a new episode\"\"\"\n",
        "        self.current_user_idx = np.random.randint(0, len(self.df_users))\n",
        "        user = self.df_users.iloc[self.current_user_idx]\n",
        "        state = np.array([user[\"latitude\"], user[\"longitude\"], user[\"battery_level\"]], dtype=np.float32)\n",
        "        return state\n",
        "\n",
        "    def step(self, action):\n",
        "        \"\"\"Take an action (recommend a station) and return the reward\"\"\"\n",
        "        user = self.df_users.iloc[self.current_user_idx]\n",
        "        station = self.df_stations.iloc[action]\n",
        "\n",
        "        # Compute distance (negative reward for far stations)\n",
        "        distance = np.linalg.norm([user[\"latitude\"] - station[\"latitude\"], user[\"longitude\"] - station[\"longitude\"]])\n",
        "\n",
        "        # Check station availability\n",
        "        available = station[\"vacancy\"] > 0\n",
        "\n",
        "        # Reward function\n",
        "        reward = 0\n",
        "        if available:\n",
        "            reward += 10  # Positive reward for recommending an available station\n",
        "        else:\n",
        "            reward -= 5  # Negative reward for sending user to a full station\n",
        "\n",
        "        # Negative reward for long distances\n",
        "        reward -= distance * 5\n",
        "\n",
        "        done = True  # One recommendation per episode\n",
        "        return np.array([user[\"latitude\"], user[\"longitude\"], user[\"battery_level\"]], dtype=np.float32), reward, done, {}\n",
        "\n",
        "\n",
        "\n"
      ],
      "metadata": {
        "id": "XgGFnOBYuNLr"
      },
      "execution_count": null,
      "outputs": []
    },
    {
      "cell_type": "code",
      "source": [
        "# # Create an agent\n",
        "# agent = EVChargingRLAgent(num_stations=len(df_stations))\n",
        "\n",
        "# # Train the model\n",
        "# agent.train(df_users, df_stations, num_epochs=200)\n"
      ],
      "metadata": {
        "id": "VBhwBLRluhpf"
      },
      "execution_count": null,
      "outputs": []
    },
    {
      "cell_type": "code",
      "source": [
        "from stable_baselines3 import DQN\n",
        "!pip install shimmy>=2.0\n",
        "\n",
        "# Initialize the environment\n",
        "env = EVChargingEnv(df_users, df_stations)\n",
        "\n",
        "# Train the RL model\n",
        "model = DQN(\"MlpPolicy\", env, verbose=1)\n",
        "model.learn(total_timesteps=10000)\n",
        "\n",
        "# Save the trained model\n",
        "model.save(\"ev_rl_model\")\n"
      ],
      "metadata": {
        "collapsed": true,
        "id": "VSbRVyUFuRJf"
      },
      "execution_count": null,
      "outputs": []
    },
    {
      "cell_type": "code",
      "source": [
        "# Load trained RL model\n",
        "model = DQN.load(\"ev_rl_model\")\n",
        "\n",
        "# Test with a random user\n",
        "obs = env.reset()\n",
        "action, _ = model.predict(obs)\n",
        "recommended_station = df_stations.iloc[action]\n",
        "\n",
        "print(\"Recommended Station:\", recommended_station[\"station_id\"])\n"
      ],
      "metadata": {
        "id": "4KQH3ZaxuT3w"
      },
      "execution_count": null,
      "outputs": []
    },
    {
      "cell_type": "code",
      "source": [
        "!pip install matplotlib seaborn folium\n"
      ],
      "metadata": {
        "id": "rNUdPSQluzFZ"
      },
      "execution_count": null,
      "outputs": []
    },
    {
      "cell_type": "code",
      "source": [
        "import matplotlib.pyplot as plt\n",
        "import seaborn as sns\n",
        "import folium\n",
        "from folium.plugins import HeatMap\n"
      ],
      "metadata": {
        "id": "yGXnZN0vytHi"
      },
      "execution_count": null,
      "outputs": []
    },
    {
      "cell_type": "code",
      "source": [
        "# # Create a base map centered around user locations\n",
        "# m = folium.Map(location=[df_users[\"latitude\"].mean(), df_users[\"longitude\"].mean()], zoom_start=12)\n",
        "\n",
        "# # Add EV Users (Blue Markers)\n",
        "# for _, user in df_users.iterrows():\n",
        "#     folium.Marker(\n",
        "#         location=[user[\"latitude\"], user[\"longitude\"]],\n",
        "#         popup=f\"User {user['user_id']} (Battery: {user['battery_level']*100:.1f}%)\",\n",
        "#         icon=folium.Icon(color=\"blue\", icon=\"user\")\n",
        "#     ).add_to(m)\n",
        "\n",
        "# # Add Charging Stations (Red Markers)\n",
        "# for _, station in df_stations.iterrows():\n",
        "#     folium.Marker(\n",
        "#         location=[station[\"latitude\"], station[\"longitude\"]],\n",
        "#         popup=f\"Station {station['station_id']} (Vacancy: {station['vacancy']})\",\n",
        "#         icon=folium.Icon(color=\"red\", icon=\"bolt\")\n",
        "#     ).add_to(m)\n",
        "\n",
        "# # Show map\n",
        "# m\n"
      ],
      "metadata": {
        "collapsed": true,
        "id": "eXRP6miYyv8U"
      },
      "execution_count": null,
      "outputs": []
    },
    {
      "cell_type": "code",
      "source": [
        "# Prepare data for heatmap\n",
        "heatmap_data = [[row[\"latitude\"], row[\"longitude\"]] for _, row in df_users.iterrows()]\n",
        "\n",
        "# Add heatmap layer\n",
        "m_heatmap = folium.Map(location=[df_users[\"latitude\"].mean(), df_users[\"longitude\"].mean()], zoom_start=12)\n",
        "HeatMap(heatmap_data, radius=15).add_to(m_heatmap)\n",
        "\n",
        "# Show heatmap\n",
        "m_heatmap\n"
      ],
      "metadata": {
        "collapsed": true,
        "id": "0CVZNZXuyyyT"
      },
      "execution_count": null,
      "outputs": []
    },
    {
      "cell_type": "code",
      "source": [
        "def test_specific_user(user_id):\n",
        "    \"\"\"Test model recommendation for a specific user\"\"\"\n",
        "    user = df_users[df_users[\"user_id\"] == user_id].iloc[0]\n",
        "    obs = np.array([user[\"latitude\"], user[\"longitude\"], user[\"battery_level\"]], dtype=np.float32)\n",
        "\n",
        "    # Predict charging station using RL model\n",
        "    action, _ = model.predict(obs)\n",
        "    recommended_station = df_stations.iloc[action]\n",
        "\n",
        "    # Print result\n",
        "    print(f\"User {user_id} -> Recommended Station: {recommended_station['station_id']}\")\n",
        "\n",
        "    return user, recommended_station\n",
        "\n",
        "# Example: Test for user ID 5\n",
        "user_data, station_data = test_specific_user(\"314e7455-280d-42e3-8699-74ac773ce198\")\n",
        "\n",
        "\n"
      ],
      "metadata": {
        "collapsed": true,
        "id": "QzLK25LnzWWV"
      },
      "execution_count": null,
      "outputs": []
    },
    {
      "cell_type": "code",
      "source": [
        "# Select the user\n",
        "selected_user_id = \"314e7455-280d-42e3-8699-74ac773ce198\"\n",
        "user_data = df_users[df_users[\"user_id\"] == selected_user_id].iloc[0]\n",
        "\n",
        "# Get model recommendation\n",
        "obs = np.array([user_data[\"latitude\"], user_data[\"longitude\"], user_data[\"battery_level\"]], dtype=np.float32)\n",
        "action, _ = model.predict(obs)\n",
        "recommended_station = df_stations.iloc[action]\n",
        "\n",
        "# Print results\n",
        "print(f\"User ID: {selected_user_id}\")\n",
        "print(f\"User Location: ({user_data['latitude']}, {user_data['longitude']})\")\n",
        "print(f\"Battery Level: {user_data['battery_level']*100:.1f}%\")\n",
        "print(f\"Recommended Station ID: {recommended_station['station_id']}\")\n",
        "print(f\"Station Location: ({recommended_station['latitude']}, {recommended_station['longitude']})\")\n",
        "print(f\"Vacancy: {recommended_station['vacancy']}\")\n",
        "print(f\"Wait Time: {recommended_station['wait_time_min']} min\")\n"
      ],
      "metadata": {
        "id": "hqfQwAmQ1XxB"
      },
      "execution_count": null,
      "outputs": []
    },
    {
      "cell_type": "code",
      "source": [
        "import numpy as np\n",
        "\n",
        "def find_best_station(user_data, df_stations):\n",
        "    \"\"\"Find the optimal charging station based on distance, vacancy, and wait time.\"\"\"\n",
        "    user_location = np.array([user_data[\"latitude\"], user_data[\"longitude\"]])\n",
        "\n",
        "    best_station = None\n",
        "    best_score = float('inf')  # Lower is better\n",
        "\n",
        "    for _, station in df_stations.iterrows():\n",
        "        station_location = np.array([station[\"latitude\"], station[\"longitude\"]])\n",
        "        distance = np.linalg.norm(user_location - station_location)  # Euclidean distance\n",
        "\n",
        "        # Ignore stations with no vacancy if the user is not in an urgent state\n",
        "        if station[\"vacancy\"] == 0 and user_data[\"battery_level\"] > 0.2:\n",
        "            continue\n",
        "\n",
        "        # Calculate a ranking score based on distance & wait time\n",
        "        score = distance + (station[\"wait_time_min\"] / 10)  # Normalize wait time\n",
        "\n",
        "        if score < best_score:\n",
        "            best_score = score\n",
        "            best_station = station\n",
        "\n",
        "    return best_station\n",
        "\n",
        "# Find the best station based on our logic\n",
        "optimal_station = find_best_station(user_data, df_stations)\n",
        "\n",
        "print(f\"Optimal Station ID: {optimal_station['station_id']}\")\n",
        "print(f\"Optimal Station Distance: {np.linalg.norm([user_data['latitude'] - optimal_station['latitude'], user_data['longitude'] - optimal_station['longitude']])}\")\n",
        "print(f\"Optimal Station Vacancy: {optimal_station['vacancy']}\")\n",
        "print(f\"Optimal Station Wait Time: {optimal_station['wait_time_min']} min\")\n"
      ],
      "metadata": {
        "id": "3KxzM_4JznC4"
      },
      "execution_count": null,
      "outputs": []
    },
    {
      "cell_type": "code",
      "source": [
        "# Map centered at user's location\n",
        "m_verify = folium.Map(location=[user_data[\"latitude\"], user_data[\"longitude\"]], zoom_start=13)\n",
        "\n",
        "# Add user location (Green)\n",
        "folium.Marker(\n",
        "    location=[user_data[\"latitude\"], user_data[\"longitude\"]],\n",
        "    popup=f\"User {selected_user_id} (Battery: {user_data['battery_level']*100:.1f}%)\",\n",
        "    icon=folium.Icon(color=\"green\", icon=\"user\")\n",
        ").add_to(m_verify)\n",
        "\n",
        "# Add recommended station (Purple)\n",
        "folium.Marker(\n",
        "    location=[recommended_station[\"latitude\"], recommended_station[\"longitude\"]],\n",
        "    popup=f\"Model Recommendation: Station {recommended_station['station_id']} (Vacancy: {recommended_station['vacancy']})\",\n",
        "    icon=folium.Icon(color=\"purple\", icon=\"bolt\")\n",
        ").add_to(m_verify)\n",
        "\n",
        "# Add optimal station (Blue)\n",
        "folium.Marker(\n",
        "    location=[optimal_station[\"latitude\"], optimal_station[\"longitude\"]],\n",
        "    popup=f\"Best Station: Station {optimal_station['station_id']} (Vacancy: {optimal_station['vacancy']})\",\n",
        "    icon=folium.Icon(color=\"blue\", icon=\"bolt\")\n",
        ").add_to(m_verify)\n",
        "\n",
        "# Show the verification map\n",
        "m_verify\n"
      ],
      "metadata": {
        "collapsed": true,
        "id": "HGkKede8096J"
      },
      "execution_count": null,
      "outputs": []
    },
    {
      "cell_type": "code",
      "source": [],
      "metadata": {
        "id": "-9kswu4H1q5Q"
      },
      "execution_count": null,
      "outputs": []
    }
  ]
}